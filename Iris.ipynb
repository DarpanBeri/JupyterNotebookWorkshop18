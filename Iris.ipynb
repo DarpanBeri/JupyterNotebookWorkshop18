{
  "cells": [
    {
      "metadata": {
        "_uuid": "102d1d8eb8f3ddb17ce342409337ff950f4608a7"
      },
      "cell_type": "markdown",
      "source": "# K Nearest Neighbor "
    },
    {
      "metadata": {
        "_uuid": "11a7d56f879019053fef8f240d1547727734ca61"
      },
      "cell_type": "markdown",
      "source": "### 1. KNN Theory"
    },
    {
      "metadata": {
        "_uuid": "e7dc918301a8f1799049b34ceb74ed884093feae"
      },
      "cell_type": "markdown",
      "source": "#### 1.1 Type of algorithm"
    },
    {
      "metadata": {
        "_uuid": "12d0f41d25e333d1f5e44aea9c680ac66f9533f5"
      },
      "cell_type": "markdown",
      "source": "KNN can be used for both classification and regression predictive problems. KNN falls in the supervised learning family of algorithms. Informally, this means that we are given a labelled dataset consiting of training observations $(x,y)$ and would like to capture the relationship between $x$ and $y$. More formally, our goal is to learn a function $h: X\\rightarrow Y$ so that given an unseen observation $x$, $h(x)$ can confidently predict the corresponding output $y$.\n"
    },
    {
      "metadata": {
        "_uuid": "28de544865a1455078b8196ace8ed37b1292a803"
      },
      "cell_type": "markdown",
      "source": "#### 1.2 Distance measure"
    },
    {
      "metadata": {
        "_uuid": "4dfc201918ff648f6477fcff69e17093c3bf49bf"
      },
      "cell_type": "markdown",
      "source": "In the classification setting, the K-nearest neighbor algorithm essentially boils down to forming a majority vote between the K most similar instances to a given “unseen” observation. Similarity is defined according to a distance metric between two data points. The k-nearest-neighbor classifier is commonly based on the Euclidean distance between a test sample and the specified training samples. Let $x_{i}$ be an input sample with $p$ features $(x_{i1}, x_{i2},..., x_{ip})$, $n$ be the total number of input samples $(i=1,2,...,n)$.  The Euclidean distance between sample $x_{i}$ and $x_{l}$ is is defined as: \n\n\n$$d(x_{i}, x_{l}) = \\sqrt{(x_{i1} - x_{l1})^2 + (x_{i2} - x_{l2})^2 + ... + (x_{ip} - x_{lp})^2}$$\n\nSometimes other measures can be more suitable for a given setting and include the Manhattan, Chebyshev and Hamming distance."
    },
    {
      "metadata": {
        "_uuid": "1291c061d02663980d3bc78fde68b18104909737"
      },
      "cell_type": "markdown",
      "source": "#### 1.3 Algorithm steps"
    },
    {
      "metadata": {
        "_uuid": "40f5670ac1a96a86c44560b2933053c5e53427e9"
      },
      "cell_type": "markdown",
      "source": "STEP 1: Cgoose the number K of neighbors\n\nSTEP 2: Take the K nearest neighbors of the new data point, according to your distance metric\n\nSTEP 3: Among these K neighbors, count the number of data points to each category\n\nSTEP 4: Assign the new data point to the category where you counted the most neighbors"
    },
    {
      "metadata": {
        "_uuid": "a8b8a6132960e4996966942abb27b890c1c6dcf0"
      },
      "cell_type": "markdown",
      "source": "### 2. Importing and preperation of data"
    },
    {
      "metadata": {
        "_uuid": "21e8a7c4175fe052dee84932010f0180d65f94f7"
      },
      "cell_type": "markdown",
      "source": "#### 2.1 Import libraries"
    },
    {
      "metadata": {
        "collapsed": true,
        "_uuid": "75134e27785e984d6d2c1332e900e4ea8d737000",
        "trusted": false
      },
      "cell_type": "code",
      "source": "import numpy as np\nimport pandas as pd",
      "execution_count": null,
      "outputs": []
    },
    {
      "metadata": {
        "_uuid": "047b5fd23bbf04dd0e302a4992c07cd26d0d11f9"
      },
      "cell_type": "markdown",
      "source": "#### 2.2 Load dataset"
    },
    {
      "metadata": {
        "_uuid": "85fda4c17b6d19d8ff8e49f11785d49351d2af9b"
      },
      "cell_type": "markdown",
      "source": "NOTE: Iris dataset includes three iris species with 50 samples each as well as some properties about each flower. One flower species is linearly separable from the other two, but the other two are not linearly separable from each other."
    },
    {
      "metadata": {
        "_uuid": "5b1d9006bdd9cb0db22da5dc80689a1b31c80a6e",
        "trusted": false
      },
      "cell_type": "code",
      "source": "# Importing the dataset\ndataset = pd.read_csv('../input/Iris.csv')",
      "execution_count": null,
      "outputs": []
    },
    {
      "metadata": {
        "_uuid": "91585aea3cdf5abdd4b296af3e8fe88e53cc392e"
      },
      "cell_type": "markdown",
      "source": "#### 2.3 Summarize the Dataset"
    },
    {
      "metadata": {
        "_uuid": "c42f3bf3d963aeb510d3cb5224996586df52ec6b",
        "trusted": false
      },
      "cell_type": "code",
      "source": "# We can get a quick idea of how many instances (rows) and how many attributes (columns) the data contains with the shape property.\ndataset.shape",
      "execution_count": null,
      "outputs": []
    },
    {
      "metadata": {
        "_uuid": "ac4eb63cf515d235e4cb38ba1ff55bf38061bf95",
        "trusted": false
      },
      "cell_type": "code",
      "source": "dataset.head(5)",
      "execution_count": null,
      "outputs": []
    },
    {
      "metadata": {
        "_uuid": "2e8be6a9be796c670d71c469429cac814007e165",
        "trusted": false
      },
      "cell_type": "code",
      "source": "dataset.describe()",
      "execution_count": null,
      "outputs": []
    },
    {
      "metadata": {
        "_uuid": "89ca73859391b755a5e4dbfe56127e21a8f2f48a",
        "trusted": false
      },
      "cell_type": "code",
      "source": "# Let’s now take a look at the number of instances (rows) that belong to each class. We can view this as an absolute count.\ndataset.groupby('Species').size()",
      "execution_count": null,
      "outputs": []
    },
    {
      "metadata": {
        "_uuid": "5b2912a74fbb44dde3337e2e093842e8dc0e51ce"
      },
      "cell_type": "markdown",
      "source": "#### 2.4 Dividing data into features and labels"
    },
    {
      "metadata": {
        "_uuid": "a3fc56dc82537c870e5f34019efd209361784e36"
      },
      "cell_type": "markdown",
      "source": "NOTE: As we can see dataset contain six columns: Id, SepalLengthCm, SepalWidthCm, PetalLengthCm, PetalWidthCm and Species. The actual features are described by columns 1-4. Last column contains labels of samples. Firstly we need to split data into two arrays: X (features) and y (labels)."
    },
    {
      "metadata": {
        "collapsed": true,
        "_uuid": "94f80ede97fd48a68a0ecdb45ac82067f77226b7",
        "trusted": false
      },
      "cell_type": "code",
      "source": "feature_columns = ['SepalLengthCm', 'SepalWidthCm', 'PetalLengthCm','PetalWidthCm']\nX = dataset[feature_columns].values\ny = dataset['Species'].values\n\n# Alternative way of selecting features and labels arrays:\n# X = dataset.iloc[:, 1:5].values\n# y = dataset.iloc[:, 5].values",
      "execution_count": null,
      "outputs": []
    },
    {
      "metadata": {
        "_uuid": "668d6fe210c3a9474355b3024ce4ed0ffc2763b0"
      },
      "cell_type": "markdown",
      "source": "#### 2.5 Label encoding"
    },
    {
      "metadata": {
        "_uuid": "6d37ff6e404bbb4b8bf9423b8f9d88af09c6fd89"
      },
      "cell_type": "markdown",
      "source": "NOTE: As we can see labels are categorical. KNeighborsClassifier does not accept string labels. We need to use LabelEncoder to transform them into numbers. Iris-setosa correspond to 0, Iris-versicolor correspond to 1 and Iris-virginica correspond to 2."
    },
    {
      "metadata": {
        "collapsed": true,
        "_uuid": "73d1722f5dec09bfc64c2f886e7c3d37591ea5fa",
        "trusted": false
      },
      "cell_type": "code",
      "source": "from sklearn.preprocessing import LabelEncoder\nle = LabelEncoder()\ny = le.fit_transform(y)",
      "execution_count": null,
      "outputs": []
    },
    {
      "metadata": {
        "_uuid": "746ff1b34ced21df8c03f45f8b5ad19296430930"
      },
      "cell_type": "markdown",
      "source": "#### 2.6 Spliting dataset into training set and test set"
    },
    {
      "metadata": {
        "collapsed": true,
        "_uuid": "bafb1645183e3239f8de14ab47184537725186d0"
      },
      "cell_type": "markdown",
      "source": "Let's split dataset into training set and test set, to check later on whether or not our classifier works correctly."
    },
    {
      "metadata": {
        "_uuid": "67931a8ae912553c47466d7617adb05a0a1f8129",
        "trusted": false
      },
      "cell_type": "code",
      "source": "from sklearn.cross_validation import train_test_split\nX_train, X_test, y_train, y_test = train_test_split(X, y, test_size = 0.2, random_state = 0)",
      "execution_count": null,
      "outputs": []
    },
    {
      "metadata": {
        "_uuid": "29839e4c6e6616306faaa8a0e3251b36baa1de2c"
      },
      "cell_type": "markdown",
      "source": "Lastly, because features values are in the same order of magnitude, there is no need for feature scaling. Nevertheless in other sercostamses it is extremly important to apply feature scaling before running classification algorythms."
    },
    {
      "metadata": {
        "_uuid": "91f5bd86bd0509b75ff6fa542e7526a942f749cb"
      },
      "cell_type": "markdown",
      "source": "### 3. Data Visualization"
    },
    {
      "metadata": {
        "collapsed": true,
        "_uuid": "bbaf6e9214960407ac117ee92e945317730d52fd",
        "trusted": false
      },
      "cell_type": "code",
      "source": "import matplotlib.pyplot as plt\nimport seaborn as sns\n%matplotlib inline",
      "execution_count": null,
      "outputs": []
    },
    {
      "metadata": {
        "_uuid": "cb218f731a95c709d0ad1611114293e58dc1a7da"
      },
      "cell_type": "markdown",
      "source": "#### 3.1. Parallel Coordinates"
    },
    {
      "metadata": {
        "_uuid": "aaeb56ac184a1d7798f864780d1bd60b2e1c69a5"
      },
      "cell_type": "markdown",
      "source": "Parallel coordinates is a plotting technique for plotting multivariate data. It allows one to see clusters in data and to estimate other statistics visually. Using parallel coordinates points are represented as connected line segments. Each vertical line represents one attribute. One set of connected line segments represents one data point. Points that tend to cluster will appear closer together."
    },
    {
      "metadata": {
        "_uuid": "2375f7c48bd38f40ed906b6114a3b5f01925c0c8",
        "trusted": false
      },
      "cell_type": "code",
      "source": "from pandas.plotting import parallel_coordinates\nplt.figure(figsize=(15,10))\nparallel_coordinates(dataset.drop(\"Id\", axis=1), \"Species\")\nplt.title('Parallel Coordinates Plot', fontsize=20, fontweight='bold')\nplt.xlabel('Features', fontsize=15)\nplt.ylabel('Features values', fontsize=15)\nplt.legend(loc=1, prop={'size': 15}, frameon=True,shadow=True, facecolor=\"white\", edgecolor=\"black\")\nplt.show()",
      "execution_count": null,
      "outputs": []
    },
    {
      "metadata": {
        "_uuid": "3af1e228b767f66acb96be9a7f55d1e65f0f78d1"
      },
      "cell_type": "markdown",
      "source": "#### 3.2. Andrews Curves"
    },
    {
      "metadata": {
        "_uuid": "52456a3abedff395b417dd6343f1950913e94a4d"
      },
      "cell_type": "markdown",
      "source": "Andrews curves allow one to plot multivariate data as a large number of curves that are created using the attributes of samples as coefficients for Fourier series. By coloring these curves differently for each class it is possible to visualize data clustering. Curves belonging to samples of the same class will usually be closer together and form larger structures."
    },
    {
      "metadata": {
        "_uuid": "4c6d2818dd80d478b144f75dc0644f5650a55e72",
        "trusted": false
      },
      "cell_type": "code",
      "source": "from pandas.plotting import andrews_curves\nplt.figure(figsize=(15,10))\nandrews_curves(dataset.drop(\"Id\", axis=1), \"Species\")\nplt.title('Andrews Curves Plot', fontsize=20, fontweight='bold')\nplt.legend(loc=1, prop={'size': 15}, frameon=True,shadow=True, facecolor=\"white\", edgecolor=\"black\")\nplt.show()",
      "execution_count": null,
      "outputs": []
    },
    {
      "metadata": {
        "_uuid": "09585829390fdceee284b12690555c471e5fa5d0"
      },
      "cell_type": "markdown",
      "source": "#### 3.3. Pairplot"
    },
    {
      "metadata": {
        "_uuid": "09c1b843fa2252a2d30cc4fdeca293b93b7c91d5"
      },
      "cell_type": "markdown",
      "source": "Pairwise is useful when you want to visualize the distribution of a variable or the relationship between multiple variables separately within subsets of your dataset."
    },
    {
      "metadata": {
        "_uuid": "9562d3637e8a3a1f438c0bdd540bcc78d2304cdd",
        "trusted": false
      },
      "cell_type": "code",
      "source": "plt.figure()\nsns.pairplot(dataset.drop(\"Id\", axis=1), hue = \"Species\", size=3, markers=[\"o\", \"s\", \"D\"])\nplt.show()",
      "execution_count": null,
      "outputs": []
    },
    {
      "metadata": {
        "_uuid": "2e902662b70b37bb6498ba8de21cbff915c29a7f"
      },
      "cell_type": "markdown",
      "source": "#### 3.4. Boxplots"
    },
    {
      "metadata": {
        "_uuid": "85e0f0f2e5f78d8ff8a63a2d250540a7eb2070f2",
        "trusted": false
      },
      "cell_type": "code",
      "source": "plt.figure()\ndataset.drop(\"Id\", axis=1).boxplot(by=\"Species\", figsize=(15, 10))\nplt.show()",
      "execution_count": null,
      "outputs": []
    },
    {
      "metadata": {
        "_uuid": "31ff765b05b33e2290faa5df5cfa21dca7e13dd8"
      },
      "cell_type": "markdown",
      "source": "#### 3.5. 3D visualization"
    },
    {
      "metadata": {
        "_uuid": "159d0704593ea624f4839052ccabaf3450ad8b7f"
      },
      "cell_type": "markdown",
      "source": "You can also try to  visualize high-dimensional datasets in 3D using color, shape, size and other properties of 3D and 2D objects. In this plot I used marks sizes to visualize fourth dimenssion which is Petal Width [cm]."
    },
    {
      "metadata": {
        "_uuid": "ec81400cdd46a77b66e8c63081b0c4ea3ebc04d8",
        "trusted": false
      },
      "cell_type": "code",
      "source": "from mpl_toolkits.mplot3d import Axes3D\nfig = plt.figure(1, figsize=(20, 15))\nax = Axes3D(fig, elev=48, azim=134)\nax.scatter(X[:, 0], X[:, 1], X[:, 2], c=y,\n           cmap=plt.cm.Set1, edgecolor='k', s = X[:, 3]*50)\n\nfor name, label in [('Virginica', 0), ('Setosa', 1), ('Versicolour', 2)]:\n    ax.text3D(X[y == label, 0].mean(),\n              X[y == label, 1].mean(),\n              X[y == label, 2].mean(), name,\n              horizontalalignment='center',\n              bbox=dict(alpha=.5, edgecolor='w', facecolor='w'),size=25)\n\nax.set_title(\"3D visualization\", fontsize=40)\nax.set_xlabel(\"Sepal Length [cm]\", fontsize=25)\nax.w_xaxis.set_ticklabels([])\nax.set_ylabel(\"Sepal Width [cm]\", fontsize=25)\nax.w_yaxis.set_ticklabels([])\nax.set_zlabel(\"Petal Length [cm]\", fontsize=25)\nax.w_zaxis.set_ticklabels([])\n\nplt.show()",
      "execution_count": null,
      "outputs": []
    },
    {
      "metadata": {
        "_uuid": "4b665309f3ae95a2fa30c086acac7ddfa099b324"
      },
      "cell_type": "markdown",
      "source": "### 4. Using KNN for classification"
    },
    {
      "metadata": {
        "_uuid": "90e1e9a220732c5301c0998cd46f3fd1209a69a2"
      },
      "cell_type": "markdown",
      "source": "#### 4.1. Making predictions"
    },
    {
      "metadata": {
        "collapsed": true,
        "_uuid": "7c7665f1094aa0b923981c7028ba59f973f87853",
        "trusted": false
      },
      "cell_type": "code",
      "source": "# Fitting clasifier to the Training set\n# Loading libraries\nfrom sklearn.neighbors import KNeighborsClassifier\nfrom sklearn.metrics import confusion_matrix, accuracy_score\nfrom sklearn.model_selection import cross_val_score\n\n# Instantiate learning model (k = 3)\nclassifier = KNeighborsClassifier(n_neighbors=3)\n\n# Fitting the model\nclassifier.fit(X_train, y_train)\n\n# Predicting the Test set results\ny_pred = classifier.predict(X_test)",
      "execution_count": null,
      "outputs": []
    },
    {
      "metadata": {
        "_uuid": "55f116e36c9d824e5914f05b54e134327bb2b5c6"
      },
      "cell_type": "markdown",
      "source": "#### 4.2. Evaluating predictions"
    },
    {
      "metadata": {
        "_uuid": "0349f7e01dab0dadda1e2db8e9885a1f34365b5b"
      },
      "cell_type": "markdown",
      "source": "Building confusion matrix:"
    },
    {
      "metadata": {
        "_uuid": "6f42bb7db3df6a6373dfa906d31b29f6548810c8",
        "trusted": false
      },
      "cell_type": "code",
      "source": "cm = confusion_matrix(y_test, y_pred)\ncm",
      "execution_count": null,
      "outputs": []
    },
    {
      "metadata": {
        "_uuid": "2746eaa4e65eeb6b5169e5db44dd8a0424b25075"
      },
      "cell_type": "markdown",
      "source": "Calculating model accuracy:"
    },
    {
      "metadata": {
        "_uuid": "497a2edff564072db045d828ee18dc3559d655db",
        "trusted": false
      },
      "cell_type": "code",
      "source": "accuracy = accuracy_score(y_test, y_pred)*100\nprint('Accuracy of our model is equal ' + str(round(accuracy, 2)) + ' %.')",
      "execution_count": null,
      "outputs": []
    },
    {
      "metadata": {
        "_uuid": "c1555f7748eb2341410a22c5ce577bf52527b6f1"
      },
      "cell_type": "markdown",
      "source": "#### 4.3. Using cross-validation for parameter tuning:"
    },
    {
      "metadata": {
        "collapsed": true,
        "_uuid": "5123ae117891e9d34d80d8f5dbb1f2ea68ef6dbb",
        "trusted": false
      },
      "cell_type": "code",
      "source": "# creating list of K for KNN\nk_list = list(range(1,50,2))\n# creating list of cv scores\ncv_scores = []\n\n# perform 10-fold cross validation\nfor k in k_list:\n    knn = KNeighborsClassifier(n_neighbors=k)\n    scores = cross_val_score(knn, X_train, y_train, cv=10, scoring='accuracy')\n    cv_scores.append(scores.mean())",
      "execution_count": null,
      "outputs": []
    },
    {
      "metadata": {
        "_uuid": "cbf48575405a6c55700c830145b56487d5e68fa4",
        "trusted": false
      },
      "cell_type": "code",
      "source": "# changing to misclassification error\nMSE = [1 - x for x in cv_scores]\n\nplt.figure()\nplt.figure(figsize=(15,10))\nplt.title('The optimal number of neighbors', fontsize=20, fontweight='bold')\nplt.xlabel('Number of Neighbors K', fontsize=15)\nplt.ylabel('Misclassification Error', fontsize=15)\nsns.set_style(\"whitegrid\")\nplt.plot(k_list, MSE)\n\nplt.show()",
      "execution_count": null,
      "outputs": []
    },
    {
      "metadata": {
        "_uuid": "25a2172c1af74bbb6d88bedea2a33a2fc432abb1",
        "trusted": false
      },
      "cell_type": "code",
      "source": "# finding best k\nbest_k = k_list[MSE.index(min(MSE))]\nprint(\"The optimal number of neighbors is %d.\" % best_k)",
      "execution_count": null,
      "outputs": []
    },
    {
      "metadata": {
        "_uuid": "c659fc4783e25a9e580f8cf04d77e479c257507b"
      },
      "cell_type": "markdown",
      "source": "### 5. My own KNN implementation"
    },
    {
      "metadata": {
        "collapsed": true,
        "_uuid": "50d98771b396f6894c7edc9744a67f7f9de4620f",
        "trusted": false
      },
      "cell_type": "code",
      "source": "import numpy as np\nimport pandas as pd\nimport scipy as sp\n\nclass MyKNeighborsClassifier():\n    \"\"\"\n    My implementation of KNN algorithm.\n    \"\"\"\n    \n    def __init__(self, n_neighbors=5):\n        self.n_neighbors=n_neighbors\n        \n    def fit(self, X, y):\n        \"\"\"\n        Fit the model using X as array of features and y as array of labels.\n        \"\"\"\n        n_samples = X.shape[0]\n        # number of neighbors can't be larger then number of samples\n        if self.n_neighbors > n_samples:\n            raise ValueError(\"Number of neighbors can't be larger then number of samples in training set.\")\n        \n        # X and y need to have the same number of samples\n        if X.shape[0] != y.shape[0]:\n            raise ValueError(\"Number of samples in X and y need to be equal.\")\n        \n        # finding and saving all possible class labels\n        self.classes_ = np.unique(y)\n        \n        self.X = X\n        self.y = y\n        \n    def predict(self, X_test):\n        \n        # number of predictions to make and number of features inside single sample\n        n_predictions, n_features = X_test.shape\n        \n        # allocationg space for array of predictions\n        predictions = np.empty(n_predictions, dtype=int)\n        \n        # loop over all observations\n        for i in range(n_predictions):\n            # calculation of single prediction\n            predictions[i] = single_prediction(self.X, self.y, X_test[i, :], self.n_neighbors)\n\n        return(predictions)",
      "execution_count": null,
      "outputs": []
    },
    {
      "metadata": {
        "collapsed": true,
        "_uuid": "c025d2ca786e12ceb091ba62341355987fd18406",
        "trusted": false
      },
      "cell_type": "code",
      "source": "def single_prediction(X, y, x_train, k):\n    \n    # number of samples inside training set\n    n_samples = X.shape[0]\n    \n    # create array for distances and targets\n    distances = np.empty(n_samples, dtype=np.float64)\n\n    # distance calculation\n    for i in range(n_samples):\n        distances[i] = (x_train - X[i]).dot(x_train - X[i])\n    \n    # combining arrays as columns\n    distances = sp.c_[distances, y]\n    # sorting array by value of first column\n    sorted_distances = distances[distances[:,0].argsort()]\n    # celecting labels associeted with k smallest distances\n    targets = sorted_distances[0:k,1]\n\n    unique, counts = np.unique(targets, return_counts=True)\n    return(unique[np.argmax(counts)])",
      "execution_count": null,
      "outputs": []
    },
    {
      "metadata": {
        "collapsed": true,
        "_uuid": "18b7096afb0e46a71457104e78343aacbebcf8f4",
        "trusted": false
      },
      "cell_type": "code",
      "source": "# Instantiate learning model (k = 3)\nmy_classifier = MyKNeighborsClassifier(n_neighbors=3)\n\n# Fitting the model\nmy_classifier.fit(X_train, y_train)\n\n# Predicting the Test set results\nmy_y_pred = my_classifier.predict(X_test)",
      "execution_count": null,
      "outputs": []
    },
    {
      "metadata": {
        "_uuid": "5953a239afcce7edb78ee1fa26db1c4e59dbc4fb",
        "trusted": false
      },
      "cell_type": "code",
      "source": "accuracy = accuracy_score(y_test, my_y_pred)*100\nprint('Accuracy of our model is equal ' + str(round(accuracy, 2)) + ' %.')",
      "execution_count": null,
      "outputs": []
    },
    {
      "metadata": {
        "_uuid": "67e5bd9e1079adcf780ff27577a6ce1f31f57747"
      },
      "cell_type": "markdown",
      "source": "### 6. Bibliography\n\n1. MIT Lecture: https://www.youtube.com/watch?v=09mb78oiPkA\n2. Iris dataset: https://www.kaggle.com/uciml/iris\n3. Theory: http://www.scholarpedia.org/article/K-nearest_neighbor\n\n4. https://machinelearningmastery.com/tutorial-to-implement-k-nearest-neighbors-in-python-from-scratch/\n5. https://kevinzakka.github.io/2016/07/13/k-nearest-neighbor/\n6. https://www.analyticsvidhya.com/blog/2014/10/introduction-k-neighbours-algorithm-clustering/"
    }
  ],
  "metadata": {
    "kernelspec": {
      "display_name": "Python 3",
      "language": "python",
      "name": "python3"
    },
    "language_info": {
      "name": "python",
      "version": "3.6.6",
      "mimetype": "text/x-python",
      "codemirror_mode": {
        "name": "ipython",
        "version": 3
      },
      "pygments_lexer": "ipython3",
      "nbconvert_exporter": "python",
      "file_extension": ".py"
    }
  },
  "nbformat": 4,
  "nbformat_minor": 1
}